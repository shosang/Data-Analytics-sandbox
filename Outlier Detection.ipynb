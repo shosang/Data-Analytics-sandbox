{
 "cells": [
  {
   "cell_type": "code",
   "execution_count": 6,
   "metadata": {},
   "outputs": [],
   "source": [
    "import pandas as pd\n",
    "import numpy as np\n",
    "from statsmodels.stats.stattools import medcouple"
   ]
  },
  {
   "cell_type": "code",
   "execution_count": 58,
   "metadata": {},
   "outputs": [],
   "source": [
    "class Thresholds:\n",
    "    # col should be a numpy array\n",
    "    def __init__(self, col):\n",
    "        self.col = col\n",
    "\n",
    "    def dist(self):\n",
    "        q = [10,20,30,40,50,60,70,80,90,100]\n",
    "        perc = np.percentile(col,q)\n",
    "        print(pd.DataFrame([q,perc]))\n",
    "        \n",
    "    def tukey_fence(self):\n",
    "        q1 = np.percentile(col,25)\n",
    "        q3 = np.percentile(col,75)\n",
    "        iqr = q3 - q1\n",
    "        print('Tukey fence 1 is: ' + str(np.ceil(q1-(1.5*iqr))) + ' & ' + str(np.ceil(q3+(1.5*iqr))))\n",
    "        print('Tukey fence 2 is: ' + str(np.ceil(q1-(3*iqr))) + ' & ' + str(np.ceil(q3+(3*iqr))))\n",
    "        \n",
    "        mc = medcouple(col)\n",
    "        if mc>=0:\n",
    "            lb = np.ceil(q1 - 1.5*np.exp(-3.5*mc)*iqr)\n",
    "            ub = np.ceil(q3 + 1.5*np.exp(4*mc)*iqr)\n",
    "        else:\n",
    "            lb = np.ceil(q1 - 1.5*np.exp(-4*mc)*iqr)\n",
    "            ub = np.ceil(q3 + 1.5*np.exp(3.5*mc)*iqr)\n",
    "        print('Adjusted Tukey fence is: ' + str(lb) + ' & ' + str(ub))\n",
    "        \n",
    "    def z_scores(self):\n",
    "        avg = np.mean(col) # mean\n",
    "        med = np.median(col) # median\n",
    "        mad = np.median([np.abs(y-med) for y in col]) # mean absolute deviation\n",
    "        std = np.std(col) # standard deviation\n",
    "        print('Z-score fence is: ' + str(np.ceil(avg - (3*std))) + ' & ' + str(np.ceil(avg + (3*std))))\n",
    "        print('Modified Z-score fence is: ' + str(np.ceil(med - (3.5*mad/0.6745))) + ' & ' + str(np.ceil(med + (3.5*mad/0.6745))))"
   ]
  },
  {
   "cell_type": "code",
   "execution_count": 50,
   "metadata": {},
   "outputs": [],
   "source": [
    "col = np.array([6,7,7,8,12,14,15,16,16,19,22,24,26,26,29,46])"
   ]
  },
  {
   "cell_type": "code",
   "execution_count": 59,
   "metadata": {},
   "outputs": [
    {
     "name": "stdout",
     "output_type": "stream",
     "text": [
      "      0     1     2     3     4     5     6     7     8      9\n",
      "0  10.0  20.0  30.0  40.0  50.0  60.0  70.0  80.0  90.0  100.0\n",
      "1   7.0   8.0  13.0  15.0  16.0  19.0  23.0  26.0  27.5   46.0\n",
      "Tukey fence 1 is: -9.0 & 45.0\n",
      "Tukey fence 2 is: -29.0 & 65.0\n",
      "Adjusted Tukey fence is: 1.0 & 67.0\n",
      "Z-score fence is: -12.0 & 49.0\n",
      "Modified Z-score fence is: -25.0 & 58.0\n"
     ]
    }
   ],
   "source": [
    "fa = Thresholds(col)\n",
    "fa.dist()\n",
    "fa.tukey_fence()\n",
    "fa.z_scores()"
   ]
  }
 ],
 "metadata": {
  "kernelspec": {
   "display_name": "Python 3",
   "language": "python",
   "name": "python3"
  },
  "language_info": {
   "codemirror_mode": {
    "name": "ipython",
    "version": 3
   },
   "file_extension": ".py",
   "mimetype": "text/x-python",
   "name": "python",
   "nbconvert_exporter": "python",
   "pygments_lexer": "ipython3",
   "version": "3.8.5"
  }
 },
 "nbformat": 4,
 "nbformat_minor": 4
}
